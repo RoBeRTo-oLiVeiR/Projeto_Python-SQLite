{
 "cells": [
  {
   "cell_type": "markdown",
   "id": "c2b5a7be",
   "metadata": {},
   "source": [
    "# Projeto Python + Banco de Dados\n",
    "\n",
    "Este projeto tem como objetivo integrar a biblioteca `pandas` com o uso de bancos de dados relacionais utilizando `SQLAlchemy`. O foco está em carregar, manipular e consultar dados de forma eficiente."
   ]
  },
  {
   "cell_type": "markdown",
   "id": "0c82f95d",
   "metadata": {},
   "source": [
    "## 📦 Importando bibliotecas"
   ]
  },
  {
   "cell_type": "code",
   "execution_count": null,
   "id": "6b83e18d",
   "metadata": {},
   "outputs": [],
   "source": [
    "from sqlalchemy import create_engine, text, MetaData, inspect, Table\n",
    "import pandas as pd"
   ]
  },
  {
   "cell_type": "markdown",
   "id": "720a582d",
   "metadata": {},
   "source": [
    "## 🛠 Criando a conexão com banco de dados"
   ]
  },
  {
   "cell_type": "code",
   "execution_count": null,
   "id": "670b5c12",
   "metadata": {},
   "outputs": [],
   "source": [
    "engine = create_engine('sqlite:///:memory:')"
   ]
  },
  {
   "cell_type": "markdown",
   "id": "a1fd3ca3",
   "metadata": {},
   "source": [
    "## 🔍 Inspeção do banco de dados"
   ]
  },
  {
   "cell_type": "code",
   "execution_count": null,
   "id": "7b44d0a3",
   "metadata": {},
   "outputs": [],
   "source": [
    "inspector = inspect(engine)"
   ]
  },
  {
   "cell_type": "markdown",
   "id": "27466dc2",
   "metadata": {},
   "source": [
    "## 📂 Importando dados"
   ]
  },
  {
   "cell_type": "code",
   "execution_count": null,
   "id": "f7a7ec52",
   "metadata": {},
   "outputs": [],
   "source": [
    "url = 'https://raw.githubusercontent.com/alura-cursos/pandas-conhecendo-a-biblioteca/main/base-de-dados/aluguel.csv'\n",
    "aluguel = pd.read_csv(url, sep=';')\n",
    "aluguel.head()"
   ]
  },
  {
   "cell_type": "markdown",
   "id": "7b12851a",
   "metadata": {},
   "source": [
    "## 🧾 Salvando dados no banco"
   ]
  },
  {
   "cell_type": "code",
   "execution_count": null,
   "id": "db3fdfc8",
   "metadata": {},
   "outputs": [],
   "source": [
    "aluguel.to_sql('aluguel', engine, index = False)"
   ]
  },
  {
   "cell_type": "code",
   "execution_count": null,
   "id": "9d930fdc",
   "metadata": {},
   "outputs": [],
   "source": [
    "inspector.get_table_names()"
   ]
  },
  {
   "cell_type": "markdown",
   "id": "55640b15",
   "metadata": {},
   "source": [
    "Lista de tarefas a realizar:"
   ]
  },
  {
   "cell_type": "markdown",
   "id": "07e8b4ac",
   "metadata": {},
   "source": [
    "\n",
    "Contar quantos imóveis existem por tipo (ex: Casa, Apartamento, etc.)\n",
    "\n",
    "Selecionar os imóveis com área maior que 100 m²\n",
    "\n",
    "Calcular o valor médio do aluguel dos imóveis que possuem vaga de garagem\n",
    "\n",
    "Listar os 5 imóveis com o maior valor de condomínio\n",
    "\n",
    "Selecionar os imóveis cujo IPTU está entre R$ 100 e R$ 500\n",
    "\n",
    "Contar quantos imóveis possuem valor total (aluguel + condomínio + IPTU) superior a R$ 5.000\n",
    "\n",
    "Agrupar imóveis por número de quartos e calcular o valor médio do aluguel por grupo"
   ]
  },
  {
   "cell_type": "code",
   "execution_count": null,
   "id": "f30cfcc2",
   "metadata": {},
   "outputs": [],
   "source": [
    "pd.read_sql_table('aluguel', engine)"
   ]
  },
  {
   "cell_type": "code",
   "execution_count": null,
   "id": "a9a0a16d",
   "metadata": {},
   "outputs": [],
   "source": [
    "query = 'SELECT * FROM aluguel WHERE Tipo = \"Apartamento\"'\n",
    "pd.read_sql(query, engine)"
   ]
  },
  {
   "cell_type": "code",
   "execution_count": null,
   "id": "2b18f6df",
   "metadata": {},
   "outputs": [],
   "source": [
    "apartamentos = aluguel[aluguel['Tipo'] == 'Apartamento']\n",
    "apartamentos"
   ]
  },
  {
   "cell_type": "code",
   "execution_count": null,
   "id": "dd492a9b",
   "metadata": {},
   "outputs": [],
   "source": [
    "query = 'SELECT Tipo, COUNT(*) FROM aluguel GROUP BY Tipo'\n",
    "pd.read_sql(query, engine)"
   ]
  },
  {
   "cell_type": "code",
   "execution_count": null,
   "id": "796f4036",
   "metadata": {},
   "outputs": [],
   "source": [
    "aluguel.groupby('Tipo').size()"
   ]
  },
  {
   "cell_type": "code",
   "execution_count": null,
   "id": "443a495c",
   "metadata": {},
   "outputs": [],
   "source": [
    "query = 'SELECT * FROM aluguel WHERE Area > 100'\n",
    "pd.read_sql(query, engine)"
   ]
  },
  {
   "cell_type": "code",
   "execution_count": null,
   "id": "44950360",
   "metadata": {},
   "outputs": [],
   "source": [
    "aluguel[aluguel['Area'] > 100]"
   ]
  },
  {
   "cell_type": "code",
   "execution_count": null,
   "id": "4419df9a",
   "metadata": {},
   "outputs": [],
   "source": [
    "query = 'SELECT AVG(Valor) FROM aluguel WHERE Vagas > 0'\n",
    "pd.read_sql(query, engine)"
   ]
  },
  {
   "cell_type": "code",
   "execution_count": null,
   "id": "4f0f6e28",
   "metadata": {},
   "outputs": [],
   "source": [
    "aluguel[aluguel['Vagas'] > 0]['Valor'].mean()"
   ]
  },
  {
   "cell_type": "code",
   "execution_count": null,
   "id": "d9e90fde",
   "metadata": {},
   "outputs": [],
   "source": [
    "query = 'SELECT * FROM aluguel ORDER BY Condominio DESC LIMIT 5'\n",
    "pd.read_sql(query, engine)"
   ]
  },
  {
   "cell_type": "code",
   "execution_count": null,
   "id": "07a68e35",
   "metadata": {},
   "outputs": [],
   "source": [
    "aluguel.sort_values('Condominio', ascending = False).head(5)"
   ]
  },
  {
   "cell_type": "code",
   "execution_count": null,
   "id": "98d97f18",
   "metadata": {},
   "outputs": [],
   "source": [
    "query = 'SELECT * FROM aluguel WHERE IPTU >= 100 AND IPTU <= 500'\n",
    "pd.read_sql(query, engine)"
   ]
  },
  {
   "cell_type": "code",
   "execution_count": null,
   "id": "3688d48f",
   "metadata": {},
   "outputs": [],
   "source": [
    "aluguel[(aluguel['IPTU'] >= 100) & (aluguel['IPTU'] <= 500)]"
   ]
  },
  {
   "cell_type": "code",
   "execution_count": null,
   "id": "d59eed14",
   "metadata": {},
   "outputs": [],
   "source": [
    "query = 'SELECT COUNT(*) FROM aluguel WHERE (Valor + Condominio + IPTU) > 5000'\n",
    "pd.read_sql(query, engine)"
   ]
  },
  {
   "cell_type": "code",
   "execution_count": null,
   "id": "a225260d",
   "metadata": {},
   "outputs": [],
   "source": [
    "aluguel[(aluguel['Valor'] + aluguel['Condominio'] + aluguel['IPTU']) > 5000].shape[0]"
   ]
  },
  {
   "cell_type": "code",
   "execution_count": null,
   "id": "0d57f8d3",
   "metadata": {},
   "outputs": [],
   "source": [
    "query = 'SELECT Quartos, AVG(Valor) FROM aluguel GROUP BY Quartos'\n",
    "pd.read_sql(query, engine)"
   ]
  },
  {
   "cell_type": "code",
   "execution_count": null,
   "id": "582a6713",
   "metadata": {},
   "outputs": [],
   "source": [
    "aluguel.groupby('Quartos')['Valor'].mean()"
   ]
  }
 ],
 "metadata": {},
 "nbformat": 4,
 "nbformat_minor": 5
}
